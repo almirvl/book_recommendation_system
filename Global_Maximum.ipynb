{
 "cells": [
  {
   "cell_type": "markdown",
   "metadata": {},
   "source": [
    "<img style=\"float: left;\" src=\"books.png\">"
   ]
  },
  {
   "cell_type": "markdown",
   "metadata": {},
   "source": [
    "# Algorithmic Book Recommendations at Sehir Library\n",
    "#### CS 340 Spring 2017-18"
   ]
  },
  {
   "cell_type": "markdown",
   "metadata": {},
   "source": [
    
   ]
  },
  {
   "cell_type": "markdown",
   "metadata": {},
   "source": [
    "### Outline\n",
    "1. Dataset\n",
    "2. Exploratory Data Analysis (EDA)\n",
    "2. Interactive EDA\n",
    "3. Collaborative Filtering\n",
    "4. Some insights\n",
    "5. Recommending Books\n",
    "6. Final Comments"
   ]
  },
  {
   "cell_type": "code",
   "execution_count": 1,
   "metadata": {},
   "outputs": [],
   "source": [
    "import findspark\n",
    "findspark.init()\n",
    "import pyspark"
   ]
  },
  {
   "cell_type": "code",
   "execution_count": 2,
   "metadata": {},
   "outputs": [],
   "source": [
    "import pandas as pd\n",
    "import matplotlib.pyplot as plt\n",
    "%matplotlib inline\n",
    "\n",
    "plt.style.use(\"seaborn\")\n",
    "plt.rcParams['figure.dpi'] = 200\n",
    "plt.rcParams['figure.figsize']= plt.figaspect(0.4)"
   ]
  },
  {
   "cell_type": "code",
   "execution_count": 3,
   "metadata": {},
   "outputs": [],
   "source": [
    "from pyspark.sql import SparkSession\n",
    "\n",
    "spark = SparkSession \\\n",
    "    .builder \\\n",
    "    .appName(\"CS340 Term Project\")\\\n",
    "    .getOrCreate()\n",
    "    \n",
    "df_users = spark.read.csv(\"data_csv_users.csv\", header= True, encoding=\"UTF-8\")\n",
    "df_books = spark.read.csv(\"data_csv_books.csv\", header= True, encoding = \"UTF-8\", multiLine=True)"
   ]
  },
  {
   "cell_type": "markdown",
   "metadata": {},
   "source": [
    "# 1. Dataset"
   ]
  },
  {
   "cell_type": "markdown",
   "metadata": {},
   "source": [
    "The data for the project comes from the Şehir Library databases and includes the following tables. \n",
    "1. A table containing non-timestamped history of borrowing for users.\n",
    "2. A table containing identifying information (ID number, Library of Congress markers etc)."
   ]
  },
  {
   "cell_type": "markdown",
   "metadata": {},
   "source": [
    "![title](data.png)"
   ]
  },
  {
   "cell_type": "markdown",
   "metadata": {},
   "source": [
    "# 2. Exploratory Data Analysis (EDA)"
   ]
  },
  {
   "cell_type": "markdown",
   "metadata": {},
   "source": [
    "## 2.1 EDA - Library Users"
   ]
  },
  {
   "cell_type": "code",
   "execution_count": 4,
   "metadata": {},
   "outputs": [
    {
     "data": {
      "text/plain": [
       "['User_ID', 'Books_ID']"
      ]
     },
     "execution_count": 4,
     "metadata": {},
     "output_type": "execute_result"
    }
   ],
   "source": [
    "df_users.columns"
   ]
  },
  {
   "cell_type": "code",
   "execution_count": 6,
   "metadata": {},
   "outputs": [
    {
     "name": "stdout",
     "output_type": "stream",
     "text": [
      "+-------+------------+\n",
      "|User_ID|    Books_ID|\n",
      "+-------+------------+\n",
      "|      z|000101688001|\n",
      "|      z|000101688001|\n",
      "|      z|000104574001|\n",
      "|      z|000104574001|\n",
      "|      z|000104842001|\n",
      "+-------+------------+\n",
      "only showing top 5 rows\n",
      "\n"
     ]
    }
   ],
   "source": [
    "df_users.show(5)"
   ]
  },
  {
   "cell_type": "code",
   "execution_count": 7,
   "metadata": {},
   "outputs": [
    {
     "name": "stdout",
     "output_type": "stream",
     "text": [
      "root\n",
      " |-- User_ID: string (nullable = true)\n",
      " |-- Books_ID: string (nullable = true)\n",
      "\n"
     ]
    }
   ],
   "source": [
    "df_users.printSchema()"
   ]
  },
  {
   "cell_type": "code",
   "execution_count": 8,
   "metadata": {},
   "outputs": [],
   "source": [
    "from pyspark.sql.functions import countDistinct, count, min,max\n",
    "df_users_count = df_users.select(countDistinct('User_ID'), countDistinct('Books_ID'))"
   ]
  },
  {
   "cell_type": "code",
   "execution_count": 9,
   "metadata": {},
   "outputs": [
    {
     "name": "stdout",
     "output_type": "stream",
     "text": [
      "+-----------------------+------------------------+\n",
      "|count(DISTINCT User_ID)|count(DISTINCT Books_ID)|\n",
      "+-----------------------+------------------------+\n",
      "|                   2111|                    5574|\n",
      "+-----------------------+------------------------+\n",
      "\n"
     ]
    }
   ],
   "source": [
    "df_users_count.show()"
   ]
  },
  {
   "cell_type": "code",
   "execution_count": 10,
   "metadata": {},
   "outputs": [],
   "source": [
    "df_users_count_pd = df_users_count.toPandas()"
   ]
  },
  {
   "cell_type": "code",
   "execution_count": 11,
   "metadata": {},
   "outputs": [
    {
     "data": {
      "image/png": "[encoded data removed]",
      "text/plain": [
       "<Figure size 432x288 with 1 Axes>"
      ]
     },
     "metadata": {},
     "output_type": "display_data"
    }
   ],
   "source": [
    "plt.figure()\n",
    "plt.barh(range(df_users_count_pd.shape[1]), df_users_count_pd.values.flatten())\n",
    "plt.xlabel(\"Count\")\n",
    "plt.title(\"Users and Books\")\n",
    "plt.yticks(list(range(df_users_count_pd.shape[1])), df_users_count_pd.columns)\n",
    "plt.show()"
   ]
  },
  {
   "cell_type": "code",
   "execution_count": 12,
   "metadata": {},
   "outputs": [],
   "source": [
    "df_borrow_count = df_users.groupby('User_ID').agg(countDistinct('Books_ID').alias('borrow_count_by_user'))\\\n",
    ".orderBy('borrow_count_by_user',ascending =False)"
   ]
  },
  {
   "cell_type": "code",
   "execution_count": 13,
   "metadata": {},
   "outputs": [
    {
     "name": "stdout",
     "output_type": "stream",
     "text": [
      "+-------+--------------------+\n",
      "|User_ID|borrow_count_by_user|\n",
      "+-------+--------------------+\n",
      "|     mf|                 336|\n",
      "|     zl|                 213|\n",
      "|    akz|                 209|\n",
      "|    zmz|                 174|\n",
      "|     my|                  79|\n",
      "+-------+--------------------+\n",
      "only showing top 5 rows\n",
      "\n"
     ]
    }
   ],
   "source": [
    "df_borrow_count.show(5)"
   ]
  },
  {
   "cell_type": "code",
   "execution_count": 14,
   "metadata": {},
   "outputs": [],
   "source": [
    "df_borrow_count_pd = df_borrow_count.toPandas()"
   ]
  },
  {
   "cell_type": "code",
   "execution_count": 15,
   "metadata": {},
   "outputs": [
    {
     "data": {
      "image/png": "[encoded data removed]",
      "text/plain": [
       "<Figure size 432x288 with 1 Axes>"
      ]
     },
     "metadata": {},
     "output_type": "display_data"
    }
   ],
   "source": [
    "plt.figure()\n",
    "plt.hist(df_borrow_count_pd.borrow_count_by_user, log=True)\n",
    "plt.xlabel(\"Borrowed Books Count\")\n",
    "plt.ylabel(\"Frequency\")\n",
    "plt.title(\"Distribution of Borrowed Book Count (by User)\")\n",
    "plt.show()"
   ]
  },
  {
   "cell_type": "markdown",
   "metadata": {},
   "source": [
    "## 2.2 EDA - Books"
   ]
  },
  {
   "cell_type": "code",
   "execution_count": 16,
   "metadata": {},
   "outputs": [
    {
     "data": {
      "text/plain": [
       "['ID', 'CLASS', 'TITLE', 'SUBJECTS\\r']"
      ]
     },
     "execution_count": 16,
     "metadata": {},
     "output_type": "execute_result"
    }
   ],
   "source": [
    "df_books.columns"
   ]
  },
  {
   "cell_type": "code",
   "execution_count": 17,
   "metadata": {},
   "outputs": [],
   "source": [
    "df_books = df_books.withColumnRenamed(\"SUBJECTS\\r\", \"SUBJECTS\")"
   ]
  },
  {
   "cell_type": "code",
   "execution_count": 18,
   "metadata": {},
   "outputs": [
    {
     "name": "stdout",
     "output_type": "stream",
     "text": [
      "root\n",
      " |-- ID: string (nullable = true)\n",
      " |-- CLASS: string (nullable = true)\n",
      " |-- TITLE: string (nullable = true)\n",
      " |-- SUBJECTS: string (nullable = true)\n",
      "\n"
     ]
    }
   ],
   "source": [
    "df_books.printSchema()"
   ]
  },
  {
   "cell_type": "code",
   "execution_count": 19,
   "metadata": {},
   "outputs": [
    {
     "name": "stdout",
     "output_type": "stream",
     "text": [
      "+------------+-----------------+--------------------+--------------------+\n",
      "|          ID|            CLASS|               TITLE|            SUBJECTS|\n",
      "+------------+-----------------+--------------------+--------------------+\n",
      "|000004169001|N 5300 .G6419/S26|Sanat?n �yk�s� = ...|Art--History\n",
      "Sana...|\n",
      "|000007392001| PK 6418 .H35/M84|Mughal poetry : i...|Persian Poetry--M...|\n",
      "|000007458001| PT 2653 .W42/K67|  Korku ruhu kemirir|German Literature...|\n",
      "|000021617001|QC 171.2 .D36/E68|Equations of eter...|Matter--Mathemati...|\n",
      "|000022954001|    QH 11 .D2/V69|The voyage of the...|Natural History\n",
      "G...|\n",
      "+------------+-----------------+--------------------+--------------------+\n",
      "only showing top 5 rows\n",
      "\n"
     ]
    }
   ],
   "source": [
    "df_books.show(5)"
   ]
  },
  {
   "cell_type": "code",
   "execution_count": 20,
   "metadata": {},
   "outputs": [],
   "source": [
    "from pyspark.sql.functions import udf\n",
    "udfBookSubject = spark.udf.register(\"extractBookSubject\", lambda x: x.strip().split(\" \")[0])"
   ]
  },
  {
   "cell_type": "code",
   "execution_count": 21,
   "metadata": {},
   "outputs": [],
   "source": [
    "df_books = df_books.withColumn(\"CLASS_SUBJECT\", udfBookSubject(\"CLASS\"))"
   ]
  },
  {
   "cell_type": "code",
   "execution_count": 22,
   "metadata": {},
   "outputs": [
    {
     "name": "stdout",
     "output_type": "stream",
     "text": [
      "+------------+-----------------+--------------------+--------------------+-------------+\n",
      "|          ID|            CLASS|               TITLE|            SUBJECTS|CLASS_SUBJECT|\n",
      "+------------+-----------------+--------------------+--------------------+-------------+\n",
      "|000004169001|N 5300 .G6419/S26|Sanat?n �yk�s� = ...|Art--History\n",
      "Sana...|            N|\n",
      "|000007392001| PK 6418 .H35/M84|Mughal poetry : i...|Persian Poetry--M...|           PK|\n",
      "|000007458001| PT 2653 .W42/K67|  Korku ruhu kemirir|German Literature...|           PT|\n",
      "|000021617001|QC 171.2 .D36/E68|Equations of eter...|Matter--Mathemati...|           QC|\n",
      "|000022954001|    QH 11 .D2/V69|The voyage of the...|Natural History\n",
      "G...|           QH|\n",
      "+------------+-----------------+--------------------+--------------------+-------------+\n",
      "only showing top 5 rows\n",
      "\n"
     ]
    }
   ],
   "source": [
    "df_books.show(5)"
   ]
  },
  {
   "cell_type": "code",
   "execution_count": 23,
   "metadata": {},
   "outputs": [],
   "source": [
    "df_books_count = df_books.select(countDistinct('ID'), countDistinct('CLASS_SUBJECT'))"
   ]
  },
  {
   "cell_type": "code",
   "execution_count": 24,
   "metadata": {},
   "outputs": [
    {
     "name": "stdout",
     "output_type": "stream",
     "text": [
      "+------------------+-----------------------------+\n",
      "|count(DISTINCT ID)|count(DISTINCT CLASS_SUBJECT)|\n",
      "+------------------+-----------------------------+\n",
      "|              6094|                          171|\n",
      "+------------------+-----------------------------+\n",
      "\n"
     ]
    }
   ],
   "source": [
    "df_books_count.show()"
   ]
  },
  {
   "cell_type": "code",
   "execution_count": 24,
   "metadata": {},
   "outputs": [],
   "source": [
    "df_books_count_pd = df_books_count.toPandas()"
   ]
  },
  {
   "cell_type": "code",
   "execution_count": 25,
   "metadata": {},
   "outputs": [
    {
     "data": {
      "image/png": "[encoded data removed]",
      "text/plain": [
       "<Figure size 432x288 with 1 Axes>"
      ]
     },
     "metadata": {},
     "output_type": "display_data"
    }
   ],
   "source": [
    "plt.figure()\n",
    "plt.barh(range(df_books_count_pd.shape[1]), df_books_count_pd.values.flatten())\n",
    "plt.xlabel(\"Count\")\n",
    "plt.title(\"Books and Subjects\")\n",
    "plt.yticks(list(range(df_books_count_pd.shape[1])), df_books_count_pd.columns)\n",
    "plt.show()"
   ]
  },
  {
   "cell_type": "markdown",
   "metadata": {},
   "source": [
    "## 2.3 EDA - Users and Books"
   ]
  },
  {
   "cell_type": "code",
   "execution_count": 26,
   "metadata": {},
   "outputs": [],
   "source": [
    "df_merged = df_users.join(df_books, df_users.Books_ID == df_books.ID, \"inner\")"
   ]
  },
  {
   "cell_type": "code",
   "execution_count": 27,
   "metadata": {},
   "outputs": [
    {
     "data": {
      "text/plain": [
       "['User_ID', 'Books_ID', 'ID', 'CLASS', 'TITLE', 'SUBJECTS', 'CLASS_SUBJECT']"
      ]
     },
     "execution_count": 27,
     "metadata": {},
     "output_type": "execute_result"
    }
   ],
   "source": [
    "df_merged.columns"
   ]
  },
  {
   "cell_type": "code",
   "execution_count": 28,
   "metadata": {},
   "outputs": [
    {
     "name": "stdout",
     "output_type": "stream",
     "text": [
      "root\n",
      " |-- User_ID: string (nullable = true)\n",
      " |-- Books_ID: string (nullable = true)\n",
      " |-- ID: string (nullable = true)\n",
      " |-- CLASS: string (nullable = true)\n",
      " |-- TITLE: string (nullable = true)\n",
      " |-- SUBJECTS: string (nullable = true)\n",
      " |-- CLASS_SUBJECT: string (nullable = true)\n",
      "\n"
     ]
    }
   ],
   "source": [
    "df_merged.printSchema()"
   ]
  },
  {
   "cell_type": "code",
   "execution_count": 29,
   "metadata": {},
   "outputs": [
    {
     "name": "stdout",
     "output_type": "stream",
     "text": [
      "+---------+------------+------------+-----------------+--------------------+--------------------+-------------+\n",
      "|  User_ID|    Books_ID|          ID|            CLASS|               TITLE|            SUBJECTS|CLASS_SUBJECT|\n",
      "+---------+------------+------------+-----------------+--------------------+--------------------+-------------+\n",
      "|pzkzczrly|000004169001|000004169001|N 5300 .G6419/S26|Sanat?n �yk�s� = ...|Art--History\n",
      "Sana...|            N|\n",
      "|kzlcpzfll|000004169001|000004169001|N 5300 .G6419/S26|Sanat?n �yk�s� = ...|Art--History\n",
      "Sana...|            N|\n",
      "|mzplkmfll|000004169001|000004169001|N 5300 .G6419/S26|Sanat?n �yk�s� = ...|Art--History\n",
      "Sana...|            N|\n",
      "|mzlmacrzl|000004169001|000004169001|N 5300 .G6419/S26|Sanat?n �yk�s� = ...|Art--History\n",
      "Sana...|            N|\n",
      "|mzlmacrzl|000004169001|000004169001|N 5300 .G6419/S26|Sanat?n �yk�s� = ...|Art--History\n",
      "Sana...|            N|\n",
      "+---------+------------+------------+-----------------+--------------------+--------------------+-------------+\n",
      "only showing top 5 rows\n",
      "\n"
     ]
    }
   ],
   "source": [
    "df_merged.show(5)"
   ]
  },
  {
   "cell_type": "code",
   "execution_count": 30,
   "metadata": {},
   "outputs": [],
   "source": [
    "df_merged_count = df_merged.select(countDistinct('User_ID'), countDistinct('Books_ID'), countDistinct(\"CLASS_SUBJECT\"))"
   ]
  },
  {
   "cell_type": "code",
   "execution_count": 31,
   "metadata": {},
   "outputs": [
    {
     "name": "stdout",
     "output_type": "stream",
     "text": [
      "+-----------------------+------------------------+-----------------------------+\n",
      "|count(DISTINCT User_ID)|count(DISTINCT Books_ID)|count(DISTINCT CLASS_SUBJECT)|\n",
      "+-----------------------+------------------------+-----------------------------+\n",
      "|                   2111|                    5574|                          169|\n",
      "+-----------------------+------------------------+-----------------------------+\n",
      "\n"
     ]
    }
   ],
   "source": [
    "df_merged_count.show()"
   ]
  },
  {
   "cell_type": "code",
   "execution_count": 32,
   "metadata": {},
   "outputs": [],
   "source": [
    "df_merged_count_pd = df_merged_count.toPandas()"
   ]
  },
  {
   "cell_type": "code",
   "execution_count": 33,
   "metadata": {},
   "outputs": [
    {
     "data": {
      "image/png": "[encoded data removed]",
      "text/plain": [
       "<Figure size 432x288 with 1 Axes>"
      ]
     },
     "metadata": {},
     "output_type": "display_data"
    }
   ],
   "source": [
    "plt.figure()\n",
    "plt.barh(range(df_merged_count_pd.shape[1]), df_merged_count_pd[[\"count(DISTINCT Books_ID)\",\"count(DISTINCT User_ID)\", \"count(DISTINCT CLASS_SUBJECT)\"][::-1]].values.flatten())\n",
    "plt.xlabel(\"Count\")\n",
    "plt.title(\"Users, Books and Subjects\")\n",
    "plt.yticks(list(range(df_merged_count_pd.shape[1])), [\"count(DISTINCT Books_ID)\",\"count(DISTINCT User_ID)\", \"count(DISTINCT CLASS_SUBJECT)\"][::-1])\n",
    "plt.show()"
   ]
  },
  {
   "cell_type": "markdown",
   "metadata": {},
   "source": [
    "# 3. Interactive EDA"
   ]
  },
  {
   "cell_type": "code",
   "execution_count": 34,
   "metadata": {},
   "outputs": [],
   "source": [
    "from ipywidgets import interact, interactive, fixed, interact_manual\n",
    "import ipywidgets as widgets"
   ]
  },
  {
   "cell_type": "markdown",
   "metadata": {},
   "source": [
    "## 3.1 User History"
   ]
  },
  {
   "cell_type": "code",
   "execution_count": 35,
   "metadata": {},
   "outputs": [],
   "source": [
    "user_history_list = df_merged.select(\"User_ID\").distinct().sort(\"USER_ID\").toPandas().values.flatten().tolist()\n",
    "\n",
    "#callback function\n",
    "def user_history(user_ID = 'pzkzczrly', rows_to_show = 10):\n",
    "    return df_merged.filter(df_merged[\"User_ID\"] == user_ID).drop(\"ID\", \"SUBJECTS\", \"CLASS_SUBJECT\").show(rows_to_show)\n",
    "\n",
    "#UI\n",
    "user_history_id_dropdown = widgets.Dropdown(\n",
    "    options=user_history_list,\n",
    "    value='AGmm',\n",
    "    description='User: ',\n",
    "    disabled=False,\n",
    ")\n",
    "user_history_rows_slider = widgets.IntSlider(min=1,max=50,step=1,value=5, description = \"Rows: \")\n",
    "user_history_ui = widgets.HBox([user_history_id_dropdown, user_history_rows_slider])\n",
    "\n",
    "#output\n",
    "user_history_out = widgets.interactive_output(user_history, {'user_ID': user_history_id_dropdown, 'rows_to_show': user_history_rows_slider})"
   ]
  },
  {
   "cell_type": "code",
   "execution_count": 36,
   "metadata": {},
   "outputs": [
    {
     "data": {
      "application/vnd.jupyter.widget-view+json": {
       "model_id": "3c9c8797e49e4d2ba3530f9c61bc31cb",
       "version_major": 2,
       "version_minor": 0
      },
      "text/plain": [
       "HBox(children=(Dropdown(description='User: ', options=('AGmm', 'BS mfc', 'BS mlr', 'Gaa', 'Gac', 'Gak', 'Gkc',…"
      ]
     },
     "metadata": {},
     "output_type": "display_data"
    },
    {
     "data": {
      "application/vnd.jupyter.widget-view+json": {
       "model_id": "938e592b49f7433790fa4339e76bcaf1",
       "version_major": 2,
       "version_minor": 0
      },
      "text/plain": [
       "Output()"
      ]
     },
     "metadata": {},
     "output_type": "display_data"
    }
   ],
   "source": [
    "display(user_history_ui, user_history_out)"
   ]
  },
  {
   "cell_type": "markdown",
   "metadata": {},
   "source": [
    "## 3.2 Top Books by Classfication (Subject) "
   ]
  },
  {
   "cell_type": "code",
   "execution_count": 37,
   "metadata": {},
   "outputs": [],
   "source": [
    "subject_list = df_merged.select(\"CLASS_SUBJECT\").distinct().sort(\"CLASS_SUBJECT\").toPandas().values.flatten().tolist()\n",
    "\n",
    "#callback function\n",
    "def subject_top_books(subject = 'AC', books_to_show = 10):\n",
    "    temp = df_merged.filter(df_merged[\"CLASS_SUBJECT\"] == subject).select(\"CLASS_SUBJECT\", \"BOOKS_ID\", \"TITLE\").groupBy(\"BOOKS_ID\").agg({\"CLASS_SUBJECT\":\"min\",\"BOOKS_ID\":\"count\", \"TITLE\":\"min\"}).select(\"min(CLASS_SUBJECT)\", \"BOOKS_ID\", \"min(TITLE)\", \"count(BOOKS_ID)\").withColumnRenamed(\"min(CLASS_SUBJECT)\",\"CLASS_SUBJECT\").withColumnRenamed(\"min(TITLE)\",\"TITLE\").take(books_to_show)\n",
    "    temp2 = spark.createDataFrame(temp)\n",
    "    temp3 = temp2.toPandas()\n",
    "    if temp3.shape[0]>1:\n",
    "        plt.figure()\n",
    "        temp4  = temp3[[\"BOOKS_ID\", \"count(BOOKS_ID)\"]].sort_values(\"count(BOOKS_ID)\")\n",
    "        plt.barh(range(temp4.shape[0]), temp4[\"count(BOOKS_ID)\"].values)\n",
    "        plt.xlabel(\"Times Borrowed\")\n",
    "        plt.ylabel(\"Book ID\")\n",
    "        plt.title(\"Top Books in Subject -> {}\".format(subject))\n",
    "        plt.yticks(range(temp4.shape[0]), temp4[\"BOOKS_ID\"].values)\n",
    "    return temp2.sort(\"count(BOOKS_ID)\", ascending=False).show()\n",
    "#UI\n",
    "subject_dropdown = widgets.Dropdown(\n",
    "    options=subject_list,\n",
    "    value=\"AC\",\n",
    "    description='Subject: ',\n",
    "    disabled=False,\n",
    ")\n",
    "subject_books_slider = widgets.IntSlider(min=1,max=50,step=1,value=5, description = \"Books: \")\n",
    "subject_ui = widgets.HBox([subject_dropdown, subject_books_slider])\n",
    "\n",
    "#output\n",
    "subject_out = widgets.interactive_output(subject_top_books, {'subject': subject_dropdown, 'books_to_show': subject_books_slider})"
   ]
  },
  {
   "cell_type": "code",
   "execution_count": 38,
   "metadata": {
    "scrolled": true
   },
   "outputs": [
    {
     "data": {
      "application/vnd.jupyter.widget-view+json": {
       "model_id": "6fec403611fc4a1e93ebd328e0e37b16",
       "version_major": 2,
       "version_minor": 0
      },
      "text/plain": [
       "HBox(children=(Dropdown(description='Subject: ', options=('AC', 'AG', 'AM', 'AZ', 'B', 'BC', 'BD', 'BF', 'BH',…"
      ]
     },
     "metadata": {},
     "output_type": "display_data"
    },
    {
     "data": {
      "application/vnd.jupyter.widget-view+json": {
       "model_id": "86cb98b72877455e978e6762bddad775",
       "version_major": 2,
       "version_minor": 0
      },
      "text/plain": [
       "Output()"
      ]
     },
     "metadata": {},
     "output_type": "display_data"
    }
   ],
   "source": [
    "display(subject_ui, subject_out)"
   ]
  },
  {
   "cell_type": "markdown",
   "metadata": {},
   "source": [
    "# 4.  Collaborative Filtering"
   ]
  },
  {
   "cell_type": "code",
   "execution_count": 39,
   "metadata": {},
   "outputs": [],
   "source": [
    "from pyspark.mllib.recommendation import ALS, MatrixFactorizationModel, Rating\n",
    "from pyspark.sql.functions import lit, row_number"
   ]
  },
  {
   "cell_type": "code",
   "execution_count": 40,
   "metadata": {},
   "outputs": [],
   "source": [
    "df_merged_CF = df_merged.withColumn(\"borrowed\", lit(1.0))"
   ]
  },
  {
   "cell_type": "code",
   "execution_count": 41,
   "metadata": {
    "scrolled": true
   },
   "outputs": [
    {
     "name": "stdout",
     "output_type": "stream",
     "text": [
      "+---------+------------+------------+-----------------+--------------------+--------------------+-------------+--------+\n",
      "|  User_ID|    Books_ID|          ID|            CLASS|               TITLE|            SUBJECTS|CLASS_SUBJECT|borrowed|\n",
      "+---------+------------+------------+-----------------+--------------------+--------------------+-------------+--------+\n",
      "|pzkzczrly|000004169001|000004169001|N 5300 .G6419/S26|Sanat?n �yk�s� = ...|Art--History\n",
      "Sana...|            N|     1.0|\n",
      "|kzlcpzfll|000004169001|000004169001|N 5300 .G6419/S26|Sanat?n �yk�s� = ...|Art--History\n",
      "Sana...|            N|     1.0|\n",
      "|mzplkmfll|000004169001|000004169001|N 5300 .G6419/S26|Sanat?n �yk�s� = ...|Art--History\n",
      "Sana...|            N|     1.0|\n",
      "|mzlmacrzl|000004169001|000004169001|N 5300 .G6419/S26|Sanat?n �yk�s� = ...|Art--History\n",
      "Sana...|            N|     1.0|\n",
      "|mzlmacrzl|000004169001|000004169001|N 5300 .G6419/S26|Sanat?n �yk�s� = ...|Art--History\n",
      "Sana...|            N|     1.0|\n",
      "+---------+------------+------------+-----------------+--------------------+--------------------+-------------+--------+\n",
      "only showing top 5 rows\n",
      "\n"
     ]
    }
   ],
   "source": [
    "df_merged_CF.show(5)"
   ]
  },
  {
   "cell_type": "code",
   "execution_count": 42,
   "metadata": {},
   "outputs": [],
   "source": [
    "user_id_mapping_dict = dict(zip([row[\"User_ID\"] for row in df_merged_CF.select(\"User_ID\").distinct().sort(\"User_ID\").collect()],\n",
    "                           range(1, df_merged_CF.select(\"User_ID\").distinct().count()+1)))"
   ]
  },
  {
   "cell_type": "code",
   "execution_count": 43,
   "metadata": {},
   "outputs": [],
   "source": [
    "book_id_mapping_dict = dict(zip([row[\"Books_ID\"] for row in df_merged_CF.select(\"Books_ID\").distinct().sort(\"Books_ID\").collect()],\n",
    "                           range(1, df_merged_CF.select(\"Books_ID\").distinct().count()+1)))"
   ]
  },
  {
   "cell_type": "code",
   "execution_count": 44,
   "metadata": {},
   "outputs": [],
   "source": [
    "ratings = df_merged_CF.rdd.map(lambda row: Rating(int(user_id_mapping_dict[row[\"User_ID\"]]), int(book_id_mapping_dict[row[\"Books_ID\"]]), float(row[\"borrowed\"])))\n",
    "\n",
    "# Build the recommendation model using Alternating Least Squares\n",
    "rank = 30\n",
    "numIterations = 10\n",
    "model = ALS.trainImplicit(ratings, rank, numIterations)\n",
    "\n",
    "# Evaluate the model on training data\n",
    "testdata = ratings.map(lambda p: (p[0], p[1]))\n",
    "predictions = model.predictAll(testdata).map(lambda r: ((r[0], r[1]), r[2]))\n",
    "ratesAndPreds = ratings.map(lambda r: ((r[0], r[1]), r[2])).join(predictions)\n"
   ]
  },
  {
   "cell_type": "code",
   "execution_count": 45,
   "metadata": {},
   "outputs": [
    {
     "name": "stdout",
     "output_type": "stream",
     "text": [
      "Mean Squared Error = 10.404912077837066\n",
      "Mean Absolute Error = 1.7476634164525018\n"
     ]
    }
   ],
   "source": [
    "MSE = ratesAndPreds.map(lambda r: (r[1][0] - r[1][1])**2).mean()\n",
    "print(\"Mean Squared Error = \" + str(MSE))\n",
    "MAE = ratesAndPreds.map(lambda r: (abs(r[1][0] - r[1][1]))).mean()\n",
    "print(\"Mean Absolute Error = \" + str(MAE))"
   ]
  },
  {
   "cell_type": "code",
   "execution_count": 46,
   "metadata": {},
   "outputs": [],
   "source": [
    "rec_user_id_list = df_merged.select(\"User_ID\").distinct().sort(\"USER_ID\").toPandas().values.flatten().tolist()\n",
    "\n",
    "#callback function\n",
    "def dict_reverse_lookup(val, dict_):\n",
    "    for key in dict_:\n",
    "        if dict_[key] == val:\n",
    "            return key\n",
    "        \n",
    "def generate_recommendations(user_ID = 'pzkzczrly', num_recommendations = 10):\n",
    "    temp = model.recommendProducts(user_id_mapping_dict[user_ID], num_recommendations)\n",
    "    temp = pd.DataFrame(temp)\n",
    "    temp.columns = [\"user\", \"book\", \"rating\"]\n",
    "    temp[\"user\"] = temp[\"user\"].apply(lambda user:dict_reverse_lookup(user, user_id_mapping_dict))\n",
    "    temp[\"book\"] = temp[\"book\"].apply(lambda book:dict_reverse_lookup(book, book_id_mapping_dict))\n",
    "    display(temp)\n",
    "\n",
    "#UI\n",
    "rec_user_id_dropdown = widgets.Dropdown(\n",
    "    options=rec_user_id_list,\n",
    "    value='AGmm',\n",
    "    description='User: ',\n",
    "    disabled=False,\n",
    ")\n",
    "rec_num_slider = widgets.IntSlider(min=1,max=50,step=1,value=5, description = \"Recommendations: \")\n",
    "recommendations_ui = widgets.HBox([rec_user_id_dropdown, rec_num_slider])\n",
    "\n",
    "#output\n",
    "recommendations_out = widgets.interactive_output(generate_recommendations, {'user_ID': rec_user_id_dropdown, 'num_recommendations': rec_num_slider})"
   ]
  },
  {
   "cell_type": "code",
   "execution_count": 47,
   "metadata": {},
   "outputs": [
    {
     "data": {
      "application/vnd.jupyter.widget-view+json": {
       "model_id": "39dc99060be74ea4ae54f3aa2d4df711",
       "version_major": 2,
       "version_minor": 0
      },
      "text/plain": [
       "HBox(children=(Dropdown(description='User: ', options=('AGmm', 'BS mfc', 'BS mlr', 'Gaa', 'Gac', 'Gak', 'Gkc',…"
      ]
     },
     "metadata": {},
     "output_type": "display_data"
    },
    {
     "data": {
      "application/vnd.jupyter.widget-view+json": {
       "model_id": "fb14e0b14f404ff6ba39582899f4fccb",
       "version_major": 2,
       "version_minor": 0
      },
      "text/plain": [
       "Output()"
      ]
     },
     "metadata": {},
     "output_type": "display_data"
    }
   ],
   "source": [
    "display(recommendations_ui, recommendations_out)"
   ]
  },
  {
   "cell_type": "code",
   "execution_count": 26,
   "metadata": {},
   "outputs": [],
   "source": [
    "dataset = df_users.join(df_books, df_users.Books_ID == df_books.ID)"
   ]
  },
  {
   "cell_type": "markdown",
   "metadata": {},
   "source": [
    "# 5. Some insights"
   ]
  },
  {
   "cell_type": "code",
   "execution_count": 30,
   "metadata": {},
   "outputs": [
    {
     "name": "stdout",
     "output_type": "stream",
     "text": [
      "+---------+--------------------+--------------------+\n",
      "|  User_ID|               TITLE|            SUBJECTS|\n",
      "+---------+--------------------+--------------------+\n",
      "|pzkzczrly|Sanat?n �yk�s� = ...|Art--History\n",
      "Sana...|\n",
      "|kzlcpzfll|Sanat?n �yk�s� = ...|Art--History\n",
      "Sana...|\n",
      "|mzplkmfll|Sanat?n �yk�s� = ...|Art--History\n",
      "Sana...|\n",
      "|mzlmacrzl|Sanat?n �yk�s� = ...|Art--History\n",
      "Sana...|\n",
      "|mzlmacrzl|Sanat?n �yk�s� = ...|Art--History\n",
      "Sana...|\n",
      "|      zzz|Mughal poetry : i...|Persian Poetry--M...|\n",
      "|lzlkrmlyc|  Korku ruhu kemirir|German Literature...|\n",
      "|kzfcpzzmk|  Korku ruhu kemirir|German Literature...|\n",
      "|mzplkzzrk|  Korku ruhu kemirir|German Literature...|\n",
      "|mzplkzzrk|  Korku ruhu kemirir|German Literature...|\n",
      "|mzzllzfkz|  Korku ruhu kemirir|German Literature...|\n",
      "|mzaccmrkz|Equations of eter...|Matter--Mathemati...|\n",
      "|     zzff|The voyage of the...|Natural History\n",
      "G...|\n",
      "|mzkczczam|The holographic u...|Holography--Philo...|\n",
      "|mzacamalc|       Into the wild|Mccandless, Chris...|\n",
      "|mzaypcyyf|     Anayasa notlar?|Constitutions--Tu...|\n",
      "|kzpkmmyly|T�rkiye'nin Arap ...|Turkey--Foreign R...|\n",
      "|mzpmympfl|Atat�rk ve T�rkiy...|Atat�rk, Mustafa ...|\n",
      "|mzkyzclzl|T�rk tezy�n� sana...|Decoration and Or...|\n",
      "|      pky|Ba?lang?c?ndan bu...|Hedonism\n",
      "Happines...|\n",
      "+---------+--------------------+--------------------+\n",
      "only showing top 20 rows\n",
      "\n"
     ]
    }
   ],
   "source": [
    "dataset = df_users.join(df_books, df_users.Books_ID == df_books.ID)\n",
    "dataset.select('User_ID', 'TITLE', \"SUBJECTS\").show()"
   ]
  },
  {
   "cell_type": "code",
   "execution_count": 31,
   "metadata": {},
   "outputs": [
    {
     "name": "stdout",
     "output_type": "stream",
     "text": [
      "+---------+--------------------+--------------------+\n",
      "|  User_ID|               TITLE|            SUBJECTS|\n",
      "+---------+--------------------+--------------------+\n",
      "|pzkzczrly|Sanat?n �yk�s� = ...|                 Art|\n",
      "|pzkzczrly|Sanat?n �yk�s� = ...|       History\n",
      "Sanat|\n",
      "|pzkzczrly|Sanat?n �yk�s� = ...|               Tarih|\n",
      "|kzlcpzfll|Sanat?n �yk�s� = ...|                 Art|\n",
      "|kzlcpzfll|Sanat?n �yk�s� = ...|       History\n",
      "Sanat|\n",
      "|kzlcpzfll|Sanat?n �yk�s� = ...|               Tarih|\n",
      "|mzplkmfll|Sanat?n �yk�s� = ...|                 Art|\n",
      "|mzplkmfll|Sanat?n �yk�s� = ...|       History\n",
      "Sanat|\n",
      "|mzplkmfll|Sanat?n �yk�s� = ...|               Tarih|\n",
      "|mzlmacrzl|Sanat?n �yk�s� = ...|                 Art|\n",
      "|mzlmacrzl|Sanat?n �yk�s� = ...|       History\n",
      "Sanat|\n",
      "|mzlmacrzl|Sanat?n �yk�s� = ...|               Tarih|\n",
      "|mzlmacrzl|Sanat?n �yk�s� = ...|                 Art|\n",
      "|mzlmacrzl|Sanat?n �yk�s� = ...|       History\n",
      "Sanat|\n",
      "|mzlmacrzl|Sanat?n �yk�s� = ...|               Tarih|\n",
      "|      zzz|Mughal poetry : i...|      Persian Poetry|\n",
      "|      zzz|Mughal poetry : i...|        Mogul Empire|\n",
      "|      zzz|Mughal poetry : i...|History and Criti...|\n",
      "|      zzz|Mughal poetry : i...| Mo?ul ?mparatorlu?u|\n",
      "|      zzz|Mughal poetry : i...|   Tarih ve Ele?tiri|\n",
      "+---------+--------------------+--------------------+\n",
      "only showing top 20 rows\n",
      "\n"
     ]
    }
   ],
   "source": [
    "columns = [dataset.schema.names[0], dataset.schema.names[4], dataset.schema.names[5]]\n",
    "values = []\n",
    "for i in dataset.collect():\n",
    "    subjects = str(i.SUBJECTS).split('--')\n",
    "    for subject in subjects:\n",
    "        row_ = (i.User_ID, i.TITLE, subject)\n",
    "        values.append(row_)\n",
    "df_2 = spark.createDataFrame(values, columns)\n",
    "df_2.show()"
   ]
  },
  {
   "cell_type": "code",
   "execution_count": 32,
   "metadata": {},
   "outputs": [
    {
     "name": "stdout",
     "output_type": "stream",
     "text": [
      "The most read subjects are:\n",
      "+--------------------+----+\n",
      "|            SUBJECTS| num|\n",
      "+--------------------+----+\n",
      "|               Tarih|2588|\n",
      "|             T�rkiye|2051|\n",
      "|             History|2035|\n",
      "|              Turkey|1433|\n",
      "|    English Language|1425|\n",
      "|Textbooks for For...|1230|\n",
      "|Ders Kitaplar?, Y...|1174|\n",
      "|               Roman| 880|\n",
      "|Learning Material...| 873|\n",
      "|�?renim Materyalleri| 873|\n",
      "|  Turkish Literature| 591|\n",
      "|  Siyaset ve Y�netim| 531|\n",
      "|Politics and Gove...| 484|\n",
      "|          20. Y�zy?l| 391|\n",
      "|       D?? ?li?kiler| 360|\n",
      "|   Foreign Relations| 347|\n",
      "|Fiction\n",
      "T�rk Edeb...| 330|\n",
      "|  Birle?ik Devletler| 330|\n",
      "|       United States| 280|\n",
      "|Problems, Exercis...| 265|\n",
      "+--------------------+----+\n",
      "only showing top 20 rows\n",
      "\n"
     ]
    }
   ],
   "source": [
    "# I sorted the dataframe based on subject. It came out that number books related to Turkey is the highest.\n",
    "print ('The most read subjects are:')\n",
    "df_2.groupBy('SUBJECTS').agg(count('SUBJECTS').alias('num')).sort('num', ascending=False).show()"
   ]
  },
  {
   "cell_type": "markdown",
   "metadata": {},
   "source": [
    "# 6. Recommending books"
   ]
  },
  {
   "cell_type": "code",
   "execution_count": 27,
   "metadata": {},
   "outputs": [],
   "source": [
    "# main_dict accomodates all users, with the books they read and the ratings. Since we don't have ratings, I consider\n",
    "# the number a user borrowed a book as rating. So most of the ratings are 1. You can see that qendrim and almir have 3 common\n",
    "# books. The forth book read by almir is recommended for qendrim to read.\n",
    "main_dict = {}\n",
    "for i in dataset.collect():\n",
    "    user_id = i.User_ID\n",
    "    book_name = i.TITLE\n",
    "    if user_id in main_dict:\n",
    "        if book_name in main_dict[user_id]:\n",
    "            main_dict[user_id][book_name] += 1\n",
    "        else:\n",
    "            main_dict[user_id][book_name] = 1\n",
    "    else:\n",
    "        main_dict[user_id] = {}\n",
    "        main_dict[user_id][book_name] = 1"
   ]
  },
  {
   "cell_type": "code",
   "execution_count": 28,
   "metadata": {},
   "outputs": [
    {
     "name": "stdout",
     "output_type": "stream",
     "text": [
      "Books recommended for pzkzczrly:\n",
      "Student handbook to economics\n",
      "K�rtler ne istiyor? : K�rdistan'da etnik kimlik, dindarl?k, s?n?f ve se�imler\n",
      "�z�nt�den kurtulman?n yollar? = el-hile li-def'i'l-ahzan\n",
      "�zne ve iktidar = Dits et �crits\n",
      "�yle miymi?\n",
      "�lmeye yatmak\n"
     ]
    }
   ],
   "source": [
    "from recommendations import *\n",
    "\n",
    "# getRecommendations compares the book ratings by each user, and calcute the similarity in taste between the users, according\n",
    "# to which it recommends books. sim_distance similarity measure is used in this case\n",
    "rec = getRecommendations(main_dict, \"pzkzczrly\", sim_distance)[:6]\n",
    "print ('Books recommended for pzkzczrly:')\n",
    "for i in rec:\n",
    "    print (i[1])"
   ]
  },
  {
   "cell_type": "markdown",
   "metadata": {},
   "source": [
    "# 6. Final Comments"
   ]
  },
  {
   "cell_type": "markdown",
   "metadata": {},
   "source": [
    "The insights we expect to draw forth from the project are manifold and are likely to inform both the users as well as the library personnel in their various decisions.\n",
    "\n",
    "By drawing on collective user behavior in the past, the recommender system we implemented can definitely help library users by suggesting books similar to the ones they have requested for. Without such a system, the process of finding similar books would rely on actually visiting the library and leafing through the books on the same shelf. Thus this can help in reducing the searching cost (time consumption) from the library users and increase the effectivity. \n",
    "\n",
    "\n"
   ]
  },
  {
   "cell_type": "markdown",
   "metadata": {},
   "source": [
    "![title](tools.png)"
   ]
  },
  {
   "cell_type": "code",
   "execution_count": null,
   "metadata": {},
   "outputs": [],
   "source": []
  }
 ],
 "metadata": {
  "kernelspec": {
   "display_name": "Python 3",
   "language": "python",
   "name": "python3"
  },
  "language_info": {
   "codemirror_mode": {
    "name": "ipython",
    "version": 3
   },
   "file_extension": ".py",
   "mimetype": "text/x-python",
   "name": "python",
   "nbconvert_exporter": "python",
   "pygments_lexer": "ipython3",
   "version": "3.6.5"
  }
 },
 "nbformat": 4,
 "nbformat_minor": 2
}
